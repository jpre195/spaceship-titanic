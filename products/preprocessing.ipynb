{
 "cells": [
  {
   "cell_type": "code",
   "execution_count": 1,
   "id": "e16feae1",
   "metadata": {
    "execution": {
     "iopub.execute_input": "2024-03-25T18:54:55.674512Z",
     "iopub.status.busy": "2024-03-25T18:54:55.674512Z",
     "iopub.status.idle": "2024-03-25T18:54:55.706030Z",
     "shell.execute_reply": "2024-03-25T18:54:55.706030Z"
    },
    "lines_to_next_cell": 2,
    "papermill": {
     "duration": 0.046882,
     "end_time": "2024-03-25T18:54:55.706030",
     "exception": false,
     "start_time": "2024-03-25T18:54:55.659148",
     "status": "completed"
    },
    "tags": []
   },
   "outputs": [],
   "source": [
    "# Add description here\n",
    "#\n",
    "# *Note:* You can open this file as a notebook (JupyterLab: right-click on it in the side bar -> Open With -> Notebook)"
   ]
  },
  {
   "cell_type": "code",
   "execution_count": 2,
   "id": "ff1f7e99",
   "metadata": {
    "execution": {
     "iopub.execute_input": "2024-03-25T18:54:55.729423Z",
     "iopub.status.busy": "2024-03-25T18:54:55.728391Z",
     "iopub.status.idle": "2024-03-25T18:54:55.748429Z",
     "shell.execute_reply": "2024-03-25T18:54:55.748143Z"
    },
    "papermill": {
     "duration": 0.042399,
     "end_time": "2024-03-25T18:54:55.748429",
     "exception": false,
     "start_time": "2024-03-25T18:54:55.706030",
     "status": "completed"
    },
    "tags": []
   },
   "outputs": [],
   "source": [
    "# Uncomment the next two lines to enable auto reloading for imported modules\n",
    "# %load_ext autoreload\n",
    "# %autoreload 2\n",
    "# For more info, see:\n",
    "# https://docs.ploomber.io/en/latest/user-guide/faq_index.html#auto-reloading-code-in-jupyter"
   ]
  },
  {
   "cell_type": "code",
   "execution_count": 3,
   "id": "2d75e4d9",
   "metadata": {
    "execution": {
     "iopub.execute_input": "2024-03-25T18:54:55.748429Z",
     "iopub.status.busy": "2024-03-25T18:54:55.748429Z",
     "iopub.status.idle": "2024-03-25T18:54:55.780391Z",
     "shell.execute_reply": "2024-03-25T18:54:55.779913Z"
    },
    "lines_to_next_cell": 2,
    "papermill": {
     "duration": 0.034955,
     "end_time": "2024-03-25T18:54:55.783384",
     "exception": false,
     "start_time": "2024-03-25T18:54:55.748429",
     "status": "completed"
    },
    "tags": [
     "parameters"
    ]
   },
   "outputs": [],
   "source": [
    "# If this task has dependencies, list them them here\n",
    "# (e.g. upstream = ['some_task']), otherwise leave as None.\n",
    "upstream = None\n",
    "\n",
    "# This is a placeholder, leave it as None\n",
    "product = None"
   ]
  },
  {
   "cell_type": "code",
   "execution_count": 4,
   "id": "6c89b2bd",
   "metadata": {
    "execution": {
     "iopub.execute_input": "2024-03-25T18:54:55.789370Z",
     "iopub.status.busy": "2024-03-25T18:54:55.789370Z",
     "iopub.status.idle": "2024-03-25T18:54:55.795524Z",
     "shell.execute_reply": "2024-03-25T18:54:55.795524Z"
    },
    "papermill": {
     "duration": 0.012789,
     "end_time": "2024-03-25T18:54:55.798168",
     "exception": false,
     "start_time": "2024-03-25T18:54:55.785379",
     "status": "completed"
    },
    "tags": [
     "injected-parameters"
    ]
   },
   "outputs": [],
   "source": [
    "# Parameters\n",
    "product = {\n",
    "    \"nb\": \"C:\\\\Users\\\\kaitr\\\\Documents\\\\GitHub\\\\spaceship-titanic\\\\products\\\\preprocessing.ipynb\",\n",
    "    \"encoder\": \"C:\\\\Users\\\\kaitr\\\\Documents\\\\GitHub\\\\spaceship-titanic\\\\products\\\\encoder.pkl\",\n",
    "    \"train\": \"C:\\\\Users\\\\kaitr\\\\Documents\\\\GitHub\\\\spaceship-titanic\\\\products\\\\train.csv\",\n",
    "    \"val\": \"C:\\\\Users\\\\kaitr\\\\Documents\\\\GitHub\\\\spaceship-titanic\\\\products\\\\val.csv\",\n",
    "    \"test\": \"C:\\\\Users\\\\kaitr\\\\Documents\\\\GitHub\\\\spaceship-titanic\\\\products\\\\test.csv\",\n",
    "}\n"
   ]
  },
  {
   "cell_type": "code",
   "execution_count": 5,
   "id": "d74579ad",
   "metadata": {
    "execution": {
     "iopub.execute_input": "2024-03-25T18:54:55.805148Z",
     "iopub.status.busy": "2024-03-25T18:54:55.805148Z",
     "iopub.status.idle": "2024-03-25T18:54:57.759385Z",
     "shell.execute_reply": "2024-03-25T18:54:57.759385Z"
    },
    "papermill": {
     "duration": 1.959224,
     "end_time": "2024-03-25T18:54:57.759385",
     "exception": false,
     "start_time": "2024-03-25T18:54:55.800161",
     "status": "completed"
    },
    "tags": []
   },
   "outputs": [
    {
     "name": "stderr",
     "output_type": "stream",
     "text": [
      "C:\\Users\\kaitr\\Anaconda3\\envs\\spaceship_titanic\\lib\\site-packages\\scipy\\__init__.py:146: UserWarning: A NumPy version >=1.17.3 and <1.25.0 is required for this version of SciPy (detected version 1.26.4\n",
      "  warnings.warn(f\"A NumPy version >={np_minversion} and <{np_maxversion}\"\n"
     ]
    }
   ],
   "source": [
    "import pickle as pkl\n",
    "\n",
    "import numpy as np\n",
    "import pandas as pd\n",
    "from sklearn.model_selection import train_test_split\n",
    "from sklearn.preprocessing import OneHotEncoder\n",
    "\n",
    "train = pd.read_csv('./data/train.csv')\n",
    "test = pd.read_csv('./data/test.csv')\n",
    "\n",
    "encoder = OneHotEncoder(drop = 'first', sparse_output = False)\n",
    "\n",
    "train.set_index('PassengerId', inplace = True)\n",
    "test.set_index('PassengerId', inplace = True)\n",
    "\n",
    "train['Deck'] = [np.nan if pd.isna(cabin) else cabin.split('/')[0] for cabin in train['Cabin']]\n",
    "train['CabinNumber'] = [np.nan if pd.isna(cabin) else cabin.split('/')[1] for cabin in train['Cabin']]\n",
    "train['Side'] = [np.nan if pd.isna(cabin) else cabin.split('/')[2] for cabin in train['Cabin']]\n",
    "\n",
    "test['Deck'] = [np.nan if pd.isna(cabin) else cabin.split('/')[0] for cabin in test['Cabin']]\n",
    "test['CabinNumber'] = [np.nan if pd.isna(cabin) else cabin.split('/')[1] for cabin in test['Cabin']]\n",
    "test['Side'] = [np.nan if pd.isna(cabin) else cabin.split('/')[2] for cabin in test['Cabin']]\n",
    "\n",
    "train['CryoSleep'] = [1 if bool(cryosleep) else 0 for cryosleep in train['CryoSleep']]\n",
    "train['VIP'] = [1 if bool(vip) else 0 for vip in train['VIP']]\n",
    "\n",
    "test['CryoSleep'] = [1 if bool(cryosleep) else 0 for cryosleep in test['CryoSleep']]\n",
    "test['VIP'] = [1 if bool(vip) else 0 for vip in test['VIP']]\n",
    "\n",
    "train.drop('Cabin', axis = 1, inplace = True)\n",
    "test.drop('Cabin', axis = 1, inplace = True)\n",
    "\n",
    "cat_vars = ['HomePlanet', 'Destination', 'Deck', 'Side']\n",
    "\n",
    "train_cat = train[cat_vars]\n",
    "test_cat = test[cat_vars]\n",
    "\n",
    "train_cat = encoder.fit_transform(train_cat)\n",
    "test_cat = encoder.transform(test_cat)\n",
    "\n",
    "train_cat = pd.DataFrame(train_cat, columns = encoder.get_feature_names_out())\n",
    "train_cat.index = train.index\n",
    "\n",
    "test_cat = pd.DataFrame(test_cat, columns = encoder.get_feature_names_out())\n",
    "test_cat.index = test.index\n",
    "\n",
    "train_cat.reset_index(inplace = True)\n",
    "train.reset_index(inplace = True)\n",
    "\n",
    "test_cat.reset_index(inplace = True)\n",
    "test.reset_index(inplace = True)\n",
    "\n",
    "train = train.merge(train_cat, how = 'left', on = 'PassengerId')\n",
    "test = test.merge(test_cat, how = 'left', on = 'PassengerId')\n",
    "\n",
    "train.drop(cat_vars, axis = 1, inplace = True)\n",
    "test.drop(cat_vars, axis = 1, inplace = True)\n",
    "\n",
    "train.drop('Name', axis = 1, inplace = True)\n",
    "test.drop('Name', axis = 1, inplace = True)\n",
    "\n",
    "train['Transported'] = [1 if transported else 0 for transported in train['Transported']]\n",
    "\n",
    "train.dropna(inplace = True)\n",
    "\n",
    "train = train[sorted(train.columns)]\n",
    "test = test[sorted(test.columns)]\n",
    "\n",
    "train, val = train_test_split(train, test_size = 0.2)\n",
    "\n",
    "with open(product['encoder'], 'wb') as f:\n",
    "\n",
    "    pkl.dump(encoder, f)\n",
    "\n",
    "train.to_csv(product['train'], index = False)\n",
    "val.to_csv(product['val'], index = False)\n",
    "test.to_csv(product['test'], index = False)"
   ]
  }
 ],
 "metadata": {
  "jupytext": {
   "text_representation": {
    "extension": ".py",
    "format_name": "percent",
    "format_version": "1.3",
    "jupytext_version": "1.14.0"
   }
  },
  "kernelspec": {
   "display_name": "Python 3 (ipykernel)",
   "language": "python",
   "name": "python3"
  },
  "language_info": {
   "codemirror_mode": {
    "name": "ipython",
    "version": 3
   },
   "file_extension": ".py",
   "mimetype": "text/x-python",
   "name": "python",
   "nbconvert_exporter": "python",
   "pygments_lexer": "ipython3",
   "version": "3.9.13"
  },
  "papermill": {
   "duration": 4.5279,
   "end_time": "2024-03-25T18:54:58.100751",
   "exception": null,
   "input_path": "C:\\Users\\kaitr\\AppData\\Local\\Temp\\tmpw33v_gn5.ipynb",
   "output_path": "C:\\Users\\kaitr\\Documents\\GitHub\\spaceship-titanic\\products\\preprocessing.ipynb",
   "parameters": {
    "product": {
     "encoder": "C:\\Users\\kaitr\\Documents\\GitHub\\spaceship-titanic\\products\\encoder.pkl",
     "nb": "C:\\Users\\kaitr\\Documents\\GitHub\\spaceship-titanic\\products\\preprocessing.ipynb",
     "test": "C:\\Users\\kaitr\\Documents\\GitHub\\spaceship-titanic\\products\\test.csv",
     "train": "C:\\Users\\kaitr\\Documents\\GitHub\\spaceship-titanic\\products\\train.csv",
     "val": "C:\\Users\\kaitr\\Documents\\GitHub\\spaceship-titanic\\products\\val.csv"
    }
   },
   "start_time": "2024-03-25T18:54:53.572851"
  }
 },
 "nbformat": 4,
 "nbformat_minor": 5
}